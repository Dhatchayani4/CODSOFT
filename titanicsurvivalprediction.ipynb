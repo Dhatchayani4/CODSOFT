{
 "cells": [
  {
   "cell_type": "code",
   "execution_count": 2,
   "id": "ea3db3f6",
   "metadata": {},
   "outputs": [
    {
     "name": "stdout",
     "output_type": "stream",
     "text": [
      "Accuracy: 0.8100558659217877\n",
      "Confusion Matrix:\n",
      " [[90 15]\n",
      " [19 55]]\n"
     ]
    }
   ],
   "source": [
    "\n",
    "import pandas as pd\n",
    "from sklearn.model_selection import train_test_split\n",
    "from sklearn.linear_model import LogisticRegression\n",
    "from sklearn.metrics import accuracy_score, confusion_matrix\n",
    "\n",
    "\n",
    "data = pd.read_csv('Titanic-Dataset (1).csv')\n",
    "\n",
    "\n",
    "data = data.drop(columns=['Cabin'])\n",
    "\n",
    "\n",
    "most_common_port = data['Embarked'].mode()[0]\n",
    "data['Embarked'] = data['Embarked'].fillna(most_common_port)\n",
    "\n",
    "\n",
    "data['Age'] = data['Age'].fillna(data['Age'].median())\n",
    "\n",
    "\n",
    "if data['Sex'].dtype == object:\n",
    "    data['Sex'] = data['Sex'].map({'male': 0, 'female': 1})\n",
    "\n",
    "\n",
    "if 'Embarked' in data.columns:\n",
    "    data = pd.get_dummies(data, columns=['Embarked'], drop_first=True)\n",
    "\n",
    "\n",
    "columns_to_drop = ['PassengerId', 'Name', 'Ticket']\n",
    "existing_columns = [col for col in columns_to_drop if col in data.columns]\n",
    "data = data.drop(columns=existing_columns)\n",
    "\n",
    "\n",
    "X = data.drop('Survived', axis=1)\n",
    "y = data['Survived']\n",
    "\n",
    "\n",
    "X_train, X_test, y_train, y_test = train_test_split(X, y, test_size=0.2, random_state=42)\n",
    "\n",
    "\n",
    "model = LogisticRegression(max_iter=200)\n",
    "model.fit(X_train, y_train)\n",
    "\n",
    "\n",
    "predictions = model.predict(X_test)\n",
    "print(\"Accuracy:\", accuracy_score(y_test, predictions))\n",
    "print(\"Confusion Matrix:\\n\", confusion_matrix(y_test, predictions))\n"
   ]
  },
  {
   "cell_type": "code",
   "execution_count": null,
   "id": "8e9fbc79",
   "metadata": {},
   "outputs": [],
   "source": []
  }
 ],
 "metadata": {
  "kernelspec": {
   "display_name": "Python 3",
   "language": "python",
   "name": "python3"
  },
  "language_info": {
   "codemirror_mode": {
    "name": "ipython",
    "version": 3
   },
   "file_extension": ".py",
   "mimetype": "text/x-python",
   "name": "python",
   "nbconvert_exporter": "python",
   "pygments_lexer": "ipython3",
   "version": "3.13.5"
  }
 },
 "nbformat": 4,
 "nbformat_minor": 5
}
